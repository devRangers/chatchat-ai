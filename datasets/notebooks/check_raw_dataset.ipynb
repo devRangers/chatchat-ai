{
 "cells": [
  {
   "cell_type": "code",
   "execution_count": 5,
   "metadata": {
    "ExecuteTime": {
     "end_time": "2024-07-24T12:57:01.794091Z",
     "start_time": "2024-07-24T12:57:01.791985Z"
    }
   },
   "outputs": [],
   "source": [
    "import os\n",
    "import pandas as pd"
   ]
  },
  {
   "cell_type": "code",
   "execution_count": 3,
   "metadata": {
    "ExecuteTime": {
     "end_time": "2024-07-24T12:56:32.346460Z",
     "start_time": "2024-07-24T12:56:32.344247Z"
    }
   },
   "outputs": [],
   "source": [
    "dataset_folder_path = \"../raw_datasets\""
   ]
  },
  {
   "cell_type": "code",
   "execution_count": 2,
   "metadata": {
    "ExecuteTime": {
     "end_time": "2024-07-24T12:55:56.428386Z",
     "start_time": "2024-07-24T12:55:56.424602Z"
    }
   },
   "outputs": [],
   "source": [
    "curse_detection_path = \"Curse-detection-data.txt\"\n",
    "dktc_path = \"DKTC_train.csv\"\n",
    "hatescore_path = \"hatescore-korean-hate-speech.csv\"\n",
    "huric_path = \"HuLiC_일상대화_Human.xlsx\"\n",
    "kakao_chat_path = \"KakaoChatData_AllData.csv\"\n",
    "kmhas_train_path = \"kmhas_train.txt\"\n",
    "kmhas_valid_path = \"kmhas_valid.txt\"\n",
    "kmhas_test_path = \"kmhas_test.txt\"\n",
    "kold_path = \"KOLD.json\"\n",
    "hate_speech_labeled_train_path = \"korean-hate-speech_labeled_train.tsv\"\n",
    "hate_speech_labeled_dev_path = \"korean-hate-speech_labeled_dev.tsv\"\n",
    "malicious_comment_path = \"korean-malicious-comments-dataset.csv\"\n",
    "unsmile_train_path = \"korean-unsmile-dataset_train.tsv\"\n",
    "unsmile_valid_path = \"korean-unsmile-dataset_valid.tsv\"\n",
    "oplea_path = \"oplea_open_data.csv\""
   ]
  },
  {
   "cell_type": "markdown",
   "metadata": {},
   "source": [
    "## [Curse-detection-data](https://github.com/2runo/Curse-detection-data)\n",
    "* 욕설 여부를 분류한 한글 데이터셋"
   ]
  },
  {
   "cell_type": "code",
   "execution_count": 11,
   "metadata": {
    "ExecuteTime": {
     "end_time": "2024-07-24T12:58:58.238185Z",
     "start_time": "2024-07-24T12:58:58.223477Z"
    }
   },
   "outputs": [],
   "source": [
    "df_curse_detection = pd.read_csv(os.path.join(dataset_folder_path, curse_detection_path), delimiter='|', header=None, names=['Text', 'Label'])"
   ]
  },
  {
   "cell_type": "code",
   "execution_count": 12,
   "metadata": {
    "ExecuteTime": {
     "end_time": "2024-07-24T12:58:58.491883Z",
     "start_time": "2024-07-24T12:58:58.484865Z"
    }
   },
   "outputs": [
    {
     "data": {
      "text/html": [
       "<div>\n",
       "<style scoped>\n",
       "    .dataframe tbody tr th:only-of-type {\n",
       "        vertical-align: middle;\n",
       "    }\n",
       "\n",
       "    .dataframe tbody tr th {\n",
       "        vertical-align: top;\n",
       "    }\n",
       "\n",
       "    .dataframe thead th {\n",
       "        text-align: right;\n",
       "    }\n",
       "</style>\n",
       "<table border=\"1\" class=\"dataframe\">\n",
       "  <thead>\n",
       "    <tr style=\"text-align: right;\">\n",
       "      <th></th>\n",
       "      <th>Text</th>\n",
       "      <th>Label</th>\n",
       "    </tr>\n",
       "  </thead>\n",
       "  <tbody>\n",
       "    <tr>\n",
       "      <th>0</th>\n",
       "      <td>좌배 까는건 ㅇㅂ</td>\n",
       "      <td>1</td>\n",
       "    </tr>\n",
       "    <tr>\n",
       "      <th>1</th>\n",
       "      <td>집에 롱 패딩만 세 개다. 10년 더 입어야지 ㅋㅋ</td>\n",
       "      <td>0</td>\n",
       "    </tr>\n",
       "    <tr>\n",
       "      <th>2</th>\n",
       "      <td>개소리야 니가 빨갱이를 옹호하고 드루킹을 ㅇㅇ짓이라고 말못해서 삐진거야 빨갱아</td>\n",
       "      <td>1</td>\n",
       "    </tr>\n",
       "    <tr>\n",
       "      <th>3</th>\n",
       "      <td>세탁이라고 봐도 된다</td>\n",
       "      <td>0</td>\n",
       "    </tr>\n",
       "    <tr>\n",
       "      <th>4</th>\n",
       "      <td>애새끼가 초딩도 아니고 ㅋㅋㅋㅋ</td>\n",
       "      <td>1</td>\n",
       "    </tr>\n",
       "    <tr>\n",
       "      <th>...</th>\n",
       "      <td>...</td>\n",
       "      <td>...</td>\n",
       "    </tr>\n",
       "    <tr>\n",
       "      <th>5819</th>\n",
       "      <td>좌우 헬파이어 3개씩 6개 장착에 아파치보다 약하지만 20mm 기관포 장착임</td>\n",
       "      <td>0</td>\n",
       "    </tr>\n",
       "    <tr>\n",
       "      <th>5820</th>\n",
       "      <td>세금 내놓으라고 데모질 중 ㅋㅋ간첩, 도둑놈 새끼들이 대통령 해처먹으니까  나도 같...</td>\n",
       "      <td>1</td>\n",
       "    </tr>\n",
       "    <tr>\n",
       "      <th>5821</th>\n",
       "      <td>너가 한 말 중에</td>\n",
       "      <td>0</td>\n",
       "    </tr>\n",
       "    <tr>\n",
       "      <th>5822</th>\n",
       "      <td>제갈대중 ㅇㅂ</td>\n",
       "      <td>0</td>\n",
       "    </tr>\n",
       "    <tr>\n",
       "      <th>5823</th>\n",
       "      <td>우리나라교회는 악마들이모여 주뎅이 처벌리고</td>\n",
       "      <td>1</td>\n",
       "    </tr>\n",
       "  </tbody>\n",
       "</table>\n",
       "<p>5824 rows × 2 columns</p>\n",
       "</div>"
      ],
      "text/plain": [
       "                                                   Text  Label\n",
       "0                                             좌배 까는건 ㅇㅂ      1\n",
       "1                          집에 롱 패딩만 세 개다. 10년 더 입어야지 ㅋㅋ      0\n",
       "2           개소리야 니가 빨갱이를 옹호하고 드루킹을 ㅇㅇ짓이라고 말못해서 삐진거야 빨갱아      1\n",
       "3                                           세탁이라고 봐도 된다      0\n",
       "4                                    애새끼가 초딩도 아니고 ㅋㅋㅋㅋ       1\n",
       "...                                                 ...    ...\n",
       "5819         좌우 헬파이어 3개씩 6개 장착에 아파치보다 약하지만 20mm 기관포 장착임      0\n",
       "5820  세금 내놓으라고 데모질 중 ㅋㅋ간첩, 도둑놈 새끼들이 대통령 해처먹으니까  나도 같...      1\n",
       "5821                                          너가 한 말 중에      0\n",
       "5822                                            제갈대중 ㅇㅂ      0\n",
       "5823                           우리나라교회는 악마들이모여 주뎅이 처벌리고       1\n",
       "\n",
       "[5824 rows x 2 columns]"
      ]
     },
     "execution_count": 12,
     "metadata": {},
     "output_type": "execute_result"
    }
   ],
   "source": [
    "df_curse_detection "
   ]
  },
  {
   "cell_type": "code",
   "execution_count": null,
   "metadata": {},
   "outputs": [],
   "source": []
  },
  {
   "cell_type": "code",
   "execution_count": null,
   "metadata": {},
   "outputs": [],
   "source": []
  }
 ],
 "metadata": {
  "kernelspec": {
   "display_name": "Python 3",
   "language": "python",
   "name": "python3"
  },
  "language_info": {
   "codemirror_mode": {
    "name": "ipython",
    "version": 3
   },
   "file_extension": ".py",
   "mimetype": "text/x-python",
   "name": "python",
   "nbconvert_exporter": "python",
   "pygments_lexer": "ipython3",
   "version": "3.8.10"
  },
  "toc": {
   "base_numbering": 1,
   "nav_menu": {},
   "number_sections": true,
   "sideBar": true,
   "skip_h1_title": false,
   "title_cell": "Table of Contents",
   "title_sidebar": "Contents",
   "toc_cell": false,
   "toc_position": {},
   "toc_section_display": true,
   "toc_window_display": false
  }
 },
 "nbformat": 4,
 "nbformat_minor": 4
}
